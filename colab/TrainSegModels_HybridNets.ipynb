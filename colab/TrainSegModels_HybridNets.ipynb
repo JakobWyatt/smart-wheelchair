{
  "nbformat": 4,
  "nbformat_minor": 0,
  "metadata": {
    "colab": {
      "name": "TrainSegModels.ipynb",
      "provenance": [],
      "mount_file_id": "https://github.com/JakobWyatt/autonomous-wheelchair-thesis/blob/main/colab/TrainSegModels_HybridNets.ipynb",
      "authorship_tag": "ABX9TyNba63pUIGo3vXI9JZDAHlH",
      "include_colab_link": true
    },
    "kernelspec": {
      "name": "python3",
      "display_name": "Python 3"
    },
    "language_info": {
      "name": "python"
    },
    "widgets": {
      "application/vnd.jupyter.widget-state+json": {
        "6fbe6d070ddc4b30a5d0945e07500f57": {
          "model_module": "@jupyter-widgets/controls",
          "model_name": "HBoxModel",
          "model_module_version": "1.5.0",
          "state": {
            "_dom_classes": [],
            "_model_module": "@jupyter-widgets/controls",
            "_model_module_version": "1.5.0",
            "_model_name": "HBoxModel",
            "_view_count": null,
            "_view_module": "@jupyter-widgets/controls",
            "_view_module_version": "1.5.0",
            "_view_name": "HBoxView",
            "box_style": "",
            "children": [
              "IPY_MODEL_af70b79214204da98517326fbab1cb10",
              "IPY_MODEL_e9487aafd4cd4ee899836baab58a205f",
              "IPY_MODEL_38647625ff8843c29c06913fb9521e17"
            ],
            "layout": "IPY_MODEL_419b7cfae30f4e31a480ec94ee6fcb5f"
          }
        },
        "af70b79214204da98517326fbab1cb10": {
          "model_module": "@jupyter-widgets/controls",
          "model_name": "HTMLModel",
          "model_module_version": "1.5.0",
          "state": {
            "_dom_classes": [],
            "_model_module": "@jupyter-widgets/controls",
            "_model_module_version": "1.5.0",
            "_model_name": "HTMLModel",
            "_view_count": null,
            "_view_module": "@jupyter-widgets/controls",
            "_view_module_version": "1.5.0",
            "_view_name": "HTMLView",
            "description": "",
            "description_tooltip": null,
            "layout": "IPY_MODEL_f797aaf3cf7a47d18320b5fbdf793ba0",
            "placeholder": "​",
            "style": "IPY_MODEL_821f22b5eb244a98b1520219802e9b11",
            "value": "100%"
          }
        },
        "e9487aafd4cd4ee899836baab58a205f": {
          "model_module": "@jupyter-widgets/controls",
          "model_name": "FloatProgressModel",
          "model_module_version": "1.5.0",
          "state": {
            "_dom_classes": [],
            "_model_module": "@jupyter-widgets/controls",
            "_model_module_version": "1.5.0",
            "_model_name": "FloatProgressModel",
            "_view_count": null,
            "_view_module": "@jupyter-widgets/controls",
            "_view_module_version": "1.5.0",
            "_view_name": "ProgressView",
            "bar_style": "success",
            "description": "",
            "description_tooltip": null,
            "layout": "IPY_MODEL_9215f0338ce44839833541995b9ff459",
            "max": 70000,
            "min": 0,
            "orientation": "horizontal",
            "style": "IPY_MODEL_63d2fd7a226a4c3fb10e9df60f9f7b20",
            "value": 70000
          }
        },
        "38647625ff8843c29c06913fb9521e17": {
          "model_module": "@jupyter-widgets/controls",
          "model_name": "HTMLModel",
          "model_module_version": "1.5.0",
          "state": {
            "_dom_classes": [],
            "_model_module": "@jupyter-widgets/controls",
            "_model_module_version": "1.5.0",
            "_model_name": "HTMLModel",
            "_view_count": null,
            "_view_module": "@jupyter-widgets/controls",
            "_view_module_version": "1.5.0",
            "_view_name": "HTMLView",
            "description": "",
            "description_tooltip": null,
            "layout": "IPY_MODEL_216d23f1272b4832971ef12f7097bc22",
            "placeholder": "​",
            "style": "IPY_MODEL_73f12a2af75345e885734937c724bced",
            "value": " 70000/70000 [01:12&lt;00:00, 1055.26it/s]"
          }
        },
        "419b7cfae30f4e31a480ec94ee6fcb5f": {
          "model_module": "@jupyter-widgets/base",
          "model_name": "LayoutModel",
          "model_module_version": "1.2.0",
          "state": {
            "_model_module": "@jupyter-widgets/base",
            "_model_module_version": "1.2.0",
            "_model_name": "LayoutModel",
            "_view_count": null,
            "_view_module": "@jupyter-widgets/base",
            "_view_module_version": "1.2.0",
            "_view_name": "LayoutView",
            "align_content": null,
            "align_items": null,
            "align_self": null,
            "border": null,
            "bottom": null,
            "display": null,
            "flex": null,
            "flex_flow": null,
            "grid_area": null,
            "grid_auto_columns": null,
            "grid_auto_flow": null,
            "grid_auto_rows": null,
            "grid_column": null,
            "grid_gap": null,
            "grid_row": null,
            "grid_template_areas": null,
            "grid_template_columns": null,
            "grid_template_rows": null,
            "height": null,
            "justify_content": null,
            "justify_items": null,
            "left": null,
            "margin": null,
            "max_height": null,
            "max_width": null,
            "min_height": null,
            "min_width": null,
            "object_fit": null,
            "object_position": null,
            "order": null,
            "overflow": null,
            "overflow_x": null,
            "overflow_y": null,
            "padding": null,
            "right": null,
            "top": null,
            "visibility": null,
            "width": null
          }
        },
        "f797aaf3cf7a47d18320b5fbdf793ba0": {
          "model_module": "@jupyter-widgets/base",
          "model_name": "LayoutModel",
          "model_module_version": "1.2.0",
          "state": {
            "_model_module": "@jupyter-widgets/base",
            "_model_module_version": "1.2.0",
            "_model_name": "LayoutModel",
            "_view_count": null,
            "_view_module": "@jupyter-widgets/base",
            "_view_module_version": "1.2.0",
            "_view_name": "LayoutView",
            "align_content": null,
            "align_items": null,
            "align_self": null,
            "border": null,
            "bottom": null,
            "display": null,
            "flex": null,
            "flex_flow": null,
            "grid_area": null,
            "grid_auto_columns": null,
            "grid_auto_flow": null,
            "grid_auto_rows": null,
            "grid_column": null,
            "grid_gap": null,
            "grid_row": null,
            "grid_template_areas": null,
            "grid_template_columns": null,
            "grid_template_rows": null,
            "height": null,
            "justify_content": null,
            "justify_items": null,
            "left": null,
            "margin": null,
            "max_height": null,
            "max_width": null,
            "min_height": null,
            "min_width": null,
            "object_fit": null,
            "object_position": null,
            "order": null,
            "overflow": null,
            "overflow_x": null,
            "overflow_y": null,
            "padding": null,
            "right": null,
            "top": null,
            "visibility": null,
            "width": null
          }
        },
        "821f22b5eb244a98b1520219802e9b11": {
          "model_module": "@jupyter-widgets/controls",
          "model_name": "DescriptionStyleModel",
          "model_module_version": "1.5.0",
          "state": {
            "_model_module": "@jupyter-widgets/controls",
            "_model_module_version": "1.5.0",
            "_model_name": "DescriptionStyleModel",
            "_view_count": null,
            "_view_module": "@jupyter-widgets/base",
            "_view_module_version": "1.2.0",
            "_view_name": "StyleView",
            "description_width": ""
          }
        },
        "9215f0338ce44839833541995b9ff459": {
          "model_module": "@jupyter-widgets/base",
          "model_name": "LayoutModel",
          "model_module_version": "1.2.0",
          "state": {
            "_model_module": "@jupyter-widgets/base",
            "_model_module_version": "1.2.0",
            "_model_name": "LayoutModel",
            "_view_count": null,
            "_view_module": "@jupyter-widgets/base",
            "_view_module_version": "1.2.0",
            "_view_name": "LayoutView",
            "align_content": null,
            "align_items": null,
            "align_self": null,
            "border": null,
            "bottom": null,
            "display": null,
            "flex": null,
            "flex_flow": null,
            "grid_area": null,
            "grid_auto_columns": null,
            "grid_auto_flow": null,
            "grid_auto_rows": null,
            "grid_column": null,
            "grid_gap": null,
            "grid_row": null,
            "grid_template_areas": null,
            "grid_template_columns": null,
            "grid_template_rows": null,
            "height": null,
            "justify_content": null,
            "justify_items": null,
            "left": null,
            "margin": null,
            "max_height": null,
            "max_width": null,
            "min_height": null,
            "min_width": null,
            "object_fit": null,
            "object_position": null,
            "order": null,
            "overflow": null,
            "overflow_x": null,
            "overflow_y": null,
            "padding": null,
            "right": null,
            "top": null,
            "visibility": null,
            "width": null
          }
        },
        "63d2fd7a226a4c3fb10e9df60f9f7b20": {
          "model_module": "@jupyter-widgets/controls",
          "model_name": "ProgressStyleModel",
          "model_module_version": "1.5.0",
          "state": {
            "_model_module": "@jupyter-widgets/controls",
            "_model_module_version": "1.5.0",
            "_model_name": "ProgressStyleModel",
            "_view_count": null,
            "_view_module": "@jupyter-widgets/base",
            "_view_module_version": "1.2.0",
            "_view_name": "StyleView",
            "bar_color": null,
            "description_width": ""
          }
        },
        "216d23f1272b4832971ef12f7097bc22": {
          "model_module": "@jupyter-widgets/base",
          "model_name": "LayoutModel",
          "model_module_version": "1.2.0",
          "state": {
            "_model_module": "@jupyter-widgets/base",
            "_model_module_version": "1.2.0",
            "_model_name": "LayoutModel",
            "_view_count": null,
            "_view_module": "@jupyter-widgets/base",
            "_view_module_version": "1.2.0",
            "_view_name": "LayoutView",
            "align_content": null,
            "align_items": null,
            "align_self": null,
            "border": null,
            "bottom": null,
            "display": null,
            "flex": null,
            "flex_flow": null,
            "grid_area": null,
            "grid_auto_columns": null,
            "grid_auto_flow": null,
            "grid_auto_rows": null,
            "grid_column": null,
            "grid_gap": null,
            "grid_row": null,
            "grid_template_areas": null,
            "grid_template_columns": null,
            "grid_template_rows": null,
            "height": null,
            "justify_content": null,
            "justify_items": null,
            "left": null,
            "margin": null,
            "max_height": null,
            "max_width": null,
            "min_height": null,
            "min_width": null,
            "object_fit": null,
            "object_position": null,
            "order": null,
            "overflow": null,
            "overflow_x": null,
            "overflow_y": null,
            "padding": null,
            "right": null,
            "top": null,
            "visibility": null,
            "width": null
          }
        },
        "73f12a2af75345e885734937c724bced": {
          "model_module": "@jupyter-widgets/controls",
          "model_name": "DescriptionStyleModel",
          "model_module_version": "1.5.0",
          "state": {
            "_model_module": "@jupyter-widgets/controls",
            "_model_module_version": "1.5.0",
            "_model_name": "DescriptionStyleModel",
            "_view_count": null,
            "_view_module": "@jupyter-widgets/base",
            "_view_module_version": "1.2.0",
            "_view_name": "StyleView",
            "description_width": ""
          }
        },
        "548218cc1f294a83a59e2890b0d59a30": {
          "model_module": "@jupyter-widgets/controls",
          "model_name": "HBoxModel",
          "model_module_version": "1.5.0",
          "state": {
            "_dom_classes": [],
            "_model_module": "@jupyter-widgets/controls",
            "_model_module_version": "1.5.0",
            "_model_name": "HBoxModel",
            "_view_count": null,
            "_view_module": "@jupyter-widgets/controls",
            "_view_module_version": "1.5.0",
            "_view_name": "HBoxView",
            "box_style": "",
            "children": [
              "IPY_MODEL_9fc7a93507e5460cb788c856592f90a3",
              "IPY_MODEL_f6ca95f744cf40acb00f21a01003add2",
              "IPY_MODEL_9885a6db31b1401fb2d0e58d0f1732e1"
            ],
            "layout": "IPY_MODEL_22800d396d054bf9bf15c2cc142373e2"
          }
        },
        "9fc7a93507e5460cb788c856592f90a3": {
          "model_module": "@jupyter-widgets/controls",
          "model_name": "HTMLModel",
          "model_module_version": "1.5.0",
          "state": {
            "_dom_classes": [],
            "_model_module": "@jupyter-widgets/controls",
            "_model_module_version": "1.5.0",
            "_model_name": "HTMLModel",
            "_view_count": null,
            "_view_module": "@jupyter-widgets/controls",
            "_view_module_version": "1.5.0",
            "_view_name": "HTMLView",
            "description": "",
            "description_tooltip": null,
            "layout": "IPY_MODEL_517a795a99294dd4b7c73cd306404af9",
            "placeholder": "​",
            "style": "IPY_MODEL_d99cdd729d98436daa9811189d625cbf",
            "value": "100%"
          }
        },
        "f6ca95f744cf40acb00f21a01003add2": {
          "model_module": "@jupyter-widgets/controls",
          "model_name": "FloatProgressModel",
          "model_module_version": "1.5.0",
          "state": {
            "_dom_classes": [],
            "_model_module": "@jupyter-widgets/controls",
            "_model_module_version": "1.5.0",
            "_model_name": "FloatProgressModel",
            "_view_count": null,
            "_view_module": "@jupyter-widgets/controls",
            "_view_module_version": "1.5.0",
            "_view_name": "ProgressView",
            "bar_style": "success",
            "description": "",
            "description_tooltip": null,
            "layout": "IPY_MODEL_cfee95508e5749f692923eba3703dcab",
            "max": 10000,
            "min": 0,
            "orientation": "horizontal",
            "style": "IPY_MODEL_bf10955650094fafada10644cc79c048",
            "value": 10000
          }
        },
        "9885a6db31b1401fb2d0e58d0f1732e1": {
          "model_module": "@jupyter-widgets/controls",
          "model_name": "HTMLModel",
          "model_module_version": "1.5.0",
          "state": {
            "_dom_classes": [],
            "_model_module": "@jupyter-widgets/controls",
            "_model_module_version": "1.5.0",
            "_model_name": "HTMLModel",
            "_view_count": null,
            "_view_module": "@jupyter-widgets/controls",
            "_view_module_version": "1.5.0",
            "_view_name": "HTMLView",
            "description": "",
            "description_tooltip": null,
            "layout": "IPY_MODEL_acf0487fc6844a02a41c554e9d5acd56",
            "placeholder": "​",
            "style": "IPY_MODEL_3f5b238aa5cf420f8c7f8eaefc3b1422",
            "value": " 10000/10000 [00:10&lt;00:00, 1815.24it/s]"
          }
        },
        "22800d396d054bf9bf15c2cc142373e2": {
          "model_module": "@jupyter-widgets/base",
          "model_name": "LayoutModel",
          "model_module_version": "1.2.0",
          "state": {
            "_model_module": "@jupyter-widgets/base",
            "_model_module_version": "1.2.0",
            "_model_name": "LayoutModel",
            "_view_count": null,
            "_view_module": "@jupyter-widgets/base",
            "_view_module_version": "1.2.0",
            "_view_name": "LayoutView",
            "align_content": null,
            "align_items": null,
            "align_self": null,
            "border": null,
            "bottom": null,
            "display": null,
            "flex": null,
            "flex_flow": null,
            "grid_area": null,
            "grid_auto_columns": null,
            "grid_auto_flow": null,
            "grid_auto_rows": null,
            "grid_column": null,
            "grid_gap": null,
            "grid_row": null,
            "grid_template_areas": null,
            "grid_template_columns": null,
            "grid_template_rows": null,
            "height": null,
            "justify_content": null,
            "justify_items": null,
            "left": null,
            "margin": null,
            "max_height": null,
            "max_width": null,
            "min_height": null,
            "min_width": null,
            "object_fit": null,
            "object_position": null,
            "order": null,
            "overflow": null,
            "overflow_x": null,
            "overflow_y": null,
            "padding": null,
            "right": null,
            "top": null,
            "visibility": null,
            "width": null
          }
        },
        "517a795a99294dd4b7c73cd306404af9": {
          "model_module": "@jupyter-widgets/base",
          "model_name": "LayoutModel",
          "model_module_version": "1.2.0",
          "state": {
            "_model_module": "@jupyter-widgets/base",
            "_model_module_version": "1.2.0",
            "_model_name": "LayoutModel",
            "_view_count": null,
            "_view_module": "@jupyter-widgets/base",
            "_view_module_version": "1.2.0",
            "_view_name": "LayoutView",
            "align_content": null,
            "align_items": null,
            "align_self": null,
            "border": null,
            "bottom": null,
            "display": null,
            "flex": null,
            "flex_flow": null,
            "grid_area": null,
            "grid_auto_columns": null,
            "grid_auto_flow": null,
            "grid_auto_rows": null,
            "grid_column": null,
            "grid_gap": null,
            "grid_row": null,
            "grid_template_areas": null,
            "grid_template_columns": null,
            "grid_template_rows": null,
            "height": null,
            "justify_content": null,
            "justify_items": null,
            "left": null,
            "margin": null,
            "max_height": null,
            "max_width": null,
            "min_height": null,
            "min_width": null,
            "object_fit": null,
            "object_position": null,
            "order": null,
            "overflow": null,
            "overflow_x": null,
            "overflow_y": null,
            "padding": null,
            "right": null,
            "top": null,
            "visibility": null,
            "width": null
          }
        },
        "d99cdd729d98436daa9811189d625cbf": {
          "model_module": "@jupyter-widgets/controls",
          "model_name": "DescriptionStyleModel",
          "model_module_version": "1.5.0",
          "state": {
            "_model_module": "@jupyter-widgets/controls",
            "_model_module_version": "1.5.0",
            "_model_name": "DescriptionStyleModel",
            "_view_count": null,
            "_view_module": "@jupyter-widgets/base",
            "_view_module_version": "1.2.0",
            "_view_name": "StyleView",
            "description_width": ""
          }
        },
        "cfee95508e5749f692923eba3703dcab": {
          "model_module": "@jupyter-widgets/base",
          "model_name": "LayoutModel",
          "model_module_version": "1.2.0",
          "state": {
            "_model_module": "@jupyter-widgets/base",
            "_model_module_version": "1.2.0",
            "_model_name": "LayoutModel",
            "_view_count": null,
            "_view_module": "@jupyter-widgets/base",
            "_view_module_version": "1.2.0",
            "_view_name": "LayoutView",
            "align_content": null,
            "align_items": null,
            "align_self": null,
            "border": null,
            "bottom": null,
            "display": null,
            "flex": null,
            "flex_flow": null,
            "grid_area": null,
            "grid_auto_columns": null,
            "grid_auto_flow": null,
            "grid_auto_rows": null,
            "grid_column": null,
            "grid_gap": null,
            "grid_row": null,
            "grid_template_areas": null,
            "grid_template_columns": null,
            "grid_template_rows": null,
            "height": null,
            "justify_content": null,
            "justify_items": null,
            "left": null,
            "margin": null,
            "max_height": null,
            "max_width": null,
            "min_height": null,
            "min_width": null,
            "object_fit": null,
            "object_position": null,
            "order": null,
            "overflow": null,
            "overflow_x": null,
            "overflow_y": null,
            "padding": null,
            "right": null,
            "top": null,
            "visibility": null,
            "width": null
          }
        },
        "bf10955650094fafada10644cc79c048": {
          "model_module": "@jupyter-widgets/controls",
          "model_name": "ProgressStyleModel",
          "model_module_version": "1.5.0",
          "state": {
            "_model_module": "@jupyter-widgets/controls",
            "_model_module_version": "1.5.0",
            "_model_name": "ProgressStyleModel",
            "_view_count": null,
            "_view_module": "@jupyter-widgets/base",
            "_view_module_version": "1.2.0",
            "_view_name": "StyleView",
            "bar_color": null,
            "description_width": ""
          }
        },
        "acf0487fc6844a02a41c554e9d5acd56": {
          "model_module": "@jupyter-widgets/base",
          "model_name": "LayoutModel",
          "model_module_version": "1.2.0",
          "state": {
            "_model_module": "@jupyter-widgets/base",
            "_model_module_version": "1.2.0",
            "_model_name": "LayoutModel",
            "_view_count": null,
            "_view_module": "@jupyter-widgets/base",
            "_view_module_version": "1.2.0",
            "_view_name": "LayoutView",
            "align_content": null,
            "align_items": null,
            "align_self": null,
            "border": null,
            "bottom": null,
            "display": null,
            "flex": null,
            "flex_flow": null,
            "grid_area": null,
            "grid_auto_columns": null,
            "grid_auto_flow": null,
            "grid_auto_rows": null,
            "grid_column": null,
            "grid_gap": null,
            "grid_row": null,
            "grid_template_areas": null,
            "grid_template_columns": null,
            "grid_template_rows": null,
            "height": null,
            "justify_content": null,
            "justify_items": null,
            "left": null,
            "margin": null,
            "max_height": null,
            "max_width": null,
            "min_height": null,
            "min_width": null,
            "object_fit": null,
            "object_position": null,
            "order": null,
            "overflow": null,
            "overflow_x": null,
            "overflow_y": null,
            "padding": null,
            "right": null,
            "top": null,
            "visibility": null,
            "width": null
          }
        },
        "3f5b238aa5cf420f8c7f8eaefc3b1422": {
          "model_module": "@jupyter-widgets/controls",
          "model_name": "DescriptionStyleModel",
          "model_module_version": "1.5.0",
          "state": {
            "_model_module": "@jupyter-widgets/controls",
            "_model_module_version": "1.5.0",
            "_model_name": "DescriptionStyleModel",
            "_view_count": null,
            "_view_module": "@jupyter-widgets/base",
            "_view_module_version": "1.2.0",
            "_view_name": "StyleView",
            "description_width": ""
          }
        }
      }
    }
  },
  "cells": [
    {
      "cell_type": "markdown",
      "metadata": {
        "id": "view-in-github",
        "colab_type": "text"
      },
      "source": [
        "<a href=\"https://colab.research.google.com/github/JakobWyatt/autonomous-wheelchair-thesis/blob/main/colab/TrainSegModels_HybridNets.ipynb\" target=\"_parent\"><img src=\"https://colab.research.google.com/assets/colab-badge.svg\" alt=\"Open In Colab\"/></a>"
      ]
    },
    {
      "cell_type": "code",
      "source": [
        "!pip install -q torch==1.12.0 torchvision timm webcolors albumentations efficientnet-pytorch pretrainedmodels\n",
        "!git clone https://github.com/datvuthanh/HybridNets\n",
        "!mkdir datasets\n",
        "!unzip drive/MyDrive/Thesis/datasets/bdd100k/bdd100k_images_100k.zip -d datasets/\n",
        "!unzip drive/MyDrive/Thesis/datasets/bdd100k/det_annotations.zip -d datasets/\n",
        "!unzip drive/MyDrive/Thesis/datasets/bdd100k/da_seg_annotations.zip -d datasets/\n",
        "!unzip drive/MyDrive/Thesis/datasets/bdd100k/ll_seg_annotations.zip -d datasets/"
      ],
      "metadata": {
        "id": "1gDRY0LrtYKI",
        "colab": {
          "base_uri": "https://localhost:8080/"
        },
        "outputId": "1aa3f773-d21d-49fc-fb06-d4bae051d904"
      },
      "execution_count": 20,
      "outputs": [
        {
          "output_type": "stream",
          "name": "stdout",
          "text": [
            "fatal: destination path 'HybridNets' already exists and is not an empty directory.\n",
            "mkdir: cannot create directory ‘datasets’: File exists\n",
            "Archive:  drive/MyDrive/Thesis/datasets/bdd100k/bdd100k_images_100k.zip\n",
            "replace datasets/bdd100k/images/100k/train/9e663dc4-76234e28.jpg? [y]es, [n]o, [A]ll, [N]one, [r]ename: Archive:  drive/MyDrive/Thesis/datasets/bdd100k/det_annotations.zip\n",
            "replace datasets/data2/zwt/bdd/bdd100k/labels/100k/train/5b952ae7-1df75509.json? [y]es, [n]o, [A]ll, [N]one, [r]ename: Archive:  drive/MyDrive/Thesis/datasets/bdd100k/da_seg_annotations.zip\n",
            "replace datasets/bdd_seg_gt/train/1f864b3f-a736fa8b.png? [y]es, [n]o, [A]ll, [N]one, [r]ename: Archive:  drive/MyDrive/Thesis/datasets/bdd100k/ll_seg_annotations.zip\n",
            "replace datasets/bdd_lane_gt/train/1f864b3f-a736fa8b.png? [y]es, [n]o, [A]ll, [N]one, [r]ename: "
          ]
        }
      ]
    },
    {
      "cell_type": "code",
      "execution_count": 21,
      "metadata": {
        "colab": {
          "base_uri": "https://localhost:8080/"
        },
        "id": "ZLD5vSeItIyE",
        "outputId": "597f08db-80ef-4a42-b65a-6e44534e9a06"
      },
      "outputs": [
        {
          "output_type": "stream",
          "name": "stderr",
          "text": [
            "Using cache found in /root/.cache/torch/hub/datvuthanh_hybridnets_main\n"
          ]
        }
      ],
      "source": [
        "import torch\n",
        "import sys\n",
        "sys.path.insert(0, \"./HybridNets\")\n",
        "from hybridnets.model import ModelWithLoss\n",
        "\n",
        "model = torch.hub.load('datvuthanh/hybridnets', 'hybridnets', pretrained=True, device='cpu')\n",
        "model.eval()\n",
        "model = ModelWithLoss(model)"
      ]
    },
    {
      "cell_type": "code",
      "source": [
        "from hybridnets.dataset import BddDataset\n",
        "from utils.utils import Params\n",
        "from torchvision import transforms\n",
        "params = Params('./HybridNets/projects/bdd100k.yml')\n",
        "params.dataset['dataroot'] = \"./datasets/bdd100k/images/100k\"\n",
        "train_dataset = BddDataset(\n",
        "    params=params,\n",
        "    is_train=True,\n",
        "    inputsize=params.model['image_size'],\n",
        "    transform=transforms.Compose([\n",
        "        transforms.ToTensor(),\n",
        "        transforms.Normalize(\n",
        "            mean=params.mean, std=params.std\n",
        "        )\n",
        "    ])\n",
        ")\n",
        "test_dataset = BddDataset(\n",
        "    params=params,\n",
        "    is_train=False,\n",
        "    inputsize=params.model['image_size'],\n",
        "    transform=transforms.Compose([\n",
        "        transforms.ToTensor(),\n",
        "        transforms.Normalize(\n",
        "            mean=params.mean, std=params.std\n",
        "        )\n",
        "    ])\n",
        ")"
      ],
      "metadata": {
        "id": "Av5Ty2SmuMnB",
        "outputId": "ae63e49a-4018-4f77-d84f-2a96cf8771f0",
        "colab": {
          "base_uri": "https://localhost:8080/",
          "height": 152,
          "referenced_widgets": [
            "6fbe6d070ddc4b30a5d0945e07500f57",
            "af70b79214204da98517326fbab1cb10",
            "e9487aafd4cd4ee899836baab58a205f",
            "38647625ff8843c29c06913fb9521e17",
            "419b7cfae30f4e31a480ec94ee6fcb5f",
            "f797aaf3cf7a47d18320b5fbdf793ba0",
            "821f22b5eb244a98b1520219802e9b11",
            "9215f0338ce44839833541995b9ff459",
            "63d2fd7a226a4c3fb10e9df60f9f7b20",
            "216d23f1272b4832971ef12f7097bc22",
            "73f12a2af75345e885734937c724bced",
            "548218cc1f294a83a59e2890b0d59a30",
            "9fc7a93507e5460cb788c856592f90a3",
            "f6ca95f744cf40acb00f21a01003add2",
            "9885a6db31b1401fb2d0e58d0f1732e1",
            "22800d396d054bf9bf15c2cc142373e2",
            "517a795a99294dd4b7c73cd306404af9",
            "d99cdd729d98436daa9811189d625cbf",
            "cfee95508e5749f692923eba3703dcab",
            "bf10955650094fafada10644cc79c048",
            "acf0487fc6844a02a41c554e9d5acd56",
            "3f5b238aa5cf420f8c7f8eaefc3b1422"
          ]
        }
      },
      "execution_count": 42,
      "outputs": [
        {
          "output_type": "stream",
          "name": "stdout",
          "text": [
            "building database...\n"
          ]
        },
        {
          "output_type": "display_data",
          "data": {
            "text/plain": [
              "  0%|          | 0/70000 [00:00<?, ?it/s]"
            ],
            "application/vnd.jupyter.widget-view+json": {
              "version_major": 2,
              "version_minor": 0,
              "model_id": "6fbe6d070ddc4b30a5d0945e07500f57"
            }
          },
          "metadata": {}
        },
        {
          "output_type": "stream",
          "name": "stdout",
          "text": [
            "database build finish\n",
            "building database...\n"
          ]
        },
        {
          "output_type": "display_data",
          "data": {
            "text/plain": [
              "  0%|          | 0/10000 [00:00<?, ?it/s]"
            ],
            "application/vnd.jupyter.widget-view+json": {
              "version_major": 2,
              "version_minor": 0,
              "model_id": "548218cc1f294a83a59e2890b0d59a30"
            }
          },
          "metadata": {}
        },
        {
          "output_type": "stream",
          "name": "stdout",
          "text": [
            "database build finish\n"
          ]
        }
      ]
    },
    {
      "cell_type": "code",
      "source": [
        "from torch.utils.data import DataLoader\n",
        "import torch.optim as optim\n",
        "train_loader = DataLoader(train_dataset, batch_size=16, shuffle=True, num_workers=2, collate_fn=BddDataset.collate_fn)\n",
        "test_loader = DataLoader(test_dataset, batch_size=16, shuffle=True, num_workers=2, collate_fn=BddDataset.collate_fn)\n",
        "optimizer = torch.optim.AdamW(model.parameters())"
      ],
      "metadata": {
        "id": "OLnwW1vSAoaR"
      },
      "execution_count": 44,
      "outputs": []
    },
    {
      "cell_type": "code",
      "source": [
        "import PIL\n",
        "import numpy as np\n",
        "\n",
        "# make segmentation pretty again\n",
        "def colorfill_segmentation(seg):\n",
        "    colors = np.array([[0, 0, 0], [0, 128, 0], [0, 0, 128]], dtype=np.uint8)\n",
        "    seg_mask = seg.byte().cpu().numpy()\n",
        "    seg_mask = PIL.Image.fromarray(seg_mask)\n",
        "    seg_mask.putpalette(colors)\n",
        "    seg_mask = seg_mask.convert(\"RGB\")\n",
        "    seg_mask = np.array(seg_mask, dtype=np.uint8)\n",
        "    return seg_mask"
      ],
      "metadata": {
        "id": "N7nSdpnQmYZU"
      },
      "execution_count": 37,
      "outputs": []
    },
    {
      "cell_type": "code",
      "source": [
        "import matplotlib.pyplot as plt\n",
        "plt.ion()\n",
        "# Get an idea of our initial loss\n",
        "with torch.no_grad():\n",
        "    for data in train_loader:\n",
        "        imgs = data['img']\n",
        "        #plt.imshow(imgs[0].permute(1, 2, 0))\n",
        "        annot = data['annot']\n",
        "        seg_annot = data['segmentation']\n",
        "        cls_loss, reg_loss, seg_loss, regression, classification, anchors, segmentation = model(imgs, annot, seg_annot, obj_list=params.obj_list)\n",
        "        fig, ax = plt.subplots(2)\n",
        "        ax[0].imshow(colorfill_segmentation(segmentation[0].argmax(0)))\n",
        "        ax[1].imshow(colorfill_segmentation(seg_annot[0]))\n",
        "        print(seg_loss)\n",
        "        break"
      ],
      "metadata": {
        "id": "1nkQ2y5mEu7p",
        "outputId": "ae3c07b9-d9c4-4a8f-dcbb-a6bd63cb334f",
        "colab": {
          "base_uri": "https://localhost:8080/",
          "height": 287
        }
      },
      "execution_count": 41,
      "outputs": [
        {
          "output_type": "stream",
          "name": "stdout",
          "text": [
            "tensor(1.5433)\n"
          ]
        },
        {
          "output_type": "display_data",
          "data": {
            "text/plain": [
              "<Figure size 432x288 with 2 Axes>"
            ],
            "image/png": "[encoded data removed]"
          },
          "metadata": {
            "needs_background": "light"
          }
        }
      ]
    },
    {
      "cell_type": "code",
      "source": [
        "# Measure IoU from our test set\n"
      ],
      "metadata": {
        "id": "aNXV2JLplr0q"
      },
      "execution_count": null,
      "outputs": []
    }
  ]
}